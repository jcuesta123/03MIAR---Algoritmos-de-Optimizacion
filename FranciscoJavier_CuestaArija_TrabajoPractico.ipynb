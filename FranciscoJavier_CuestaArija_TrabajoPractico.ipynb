{
  "cells": [
    {
      "cell_type": "markdown",
      "metadata": {
        "id": "view-in-github",
        "colab_type": "text"
      },
      "source": [
        "<a href=\"https://colab.research.google.com/github/jcuesta123/03MIAR---Algoritmos-de-Optimizacion/blob/main/FranciscoJavier_CuestaArija_TrabajoPractico.ipynb\" target=\"_parent\"><img src=\"https://colab.research.google.com/assets/colab-badge.svg\" alt=\"Open In Colab\"/></a>"
      ]
    },
    {
      "cell_type": "markdown",
      "metadata": {
        "id": "hVbXYX-RfPWh"
      },
      "source": [
        "# Algoritmos de optimización - Seminario<br>\n",
        "Nombre y Apellidos:   Francisco Javier Cuesta Arija\n",
        "Url: https://github.com/.../03MAIR---Algoritmos-de-Optimizacion---2019/tree/master/SEMINARIO<br>\n",
        "Problema:\n",
        "> 1. Sesiones de doblaje <br>\n",
        ">2. Organizar los horarios de partidos de La Liga<br>\n",
        ">3. Combinar cifras y operaciones\n",
        "\n",
        "## Descripción del problema: 1. Sesiones de doblaje\n",
        "\n",
        "Se precisa coordinar el doblaje de una película. Los actores del doblaje deben coincidir en las\n",
        "tomas en las que sus personajes aparecen juntos en las diferentes tomas. Los actores de\n",
        "doblaje cobran todos la misma cantidad por cada día que deben desplazarse hasta el estudio de\n",
        "grabación independientemente del número de tomas que se graben. No es posible grabar más\n",
        "de 6 tomas por día. El objetivo es planificar las sesiones por día de manera que el gasto por los\n",
        "servicios de los actores de doblaje sea el menor posible. Los datos son:\n",
        "\n",
        "Número de actores: 10\n",
        "\n",
        "Número de tomas : 30\n",
        "\n",
        "Actores/Tomas : https://bit.ly/36D8IuK\n",
        "\n",
        "- 1 indica que el actor participa en la toma\n",
        "\n",
        "- 0 en caso contrario\n",
        "\n",
        "(*) La respuesta es obligatoria\n",
        "\n",
        "\n",
        "\n",
        "\n",
        "\n",
        "                                        "
      ]
    },
    {
      "cell_type": "markdown",
      "metadata": {
        "id": "3_-exlrTgLd-"
      },
      "source": [
        "## (*)¿Cuantas posibilidades hay sin tener en cuenta las restricciones?<br>¿Cuantas posibilidades hay teniendo en cuenta todas las restricciones.\n",
        "\n",
        "\n"
      ]
    },
    {
      "cell_type": "markdown",
      "metadata": {
        "id": "iq6Fe32MgpDX"
      },
      "source": [
        "# La restricción del problema es que el número máximo de tomas en un día son 6.\n",
        "\n",
        "Por lo tanto, sin esa restricción se podrían hacer las 30 tomas en el mismo día, y solamente habría que pagar una vez a cada uno de los diez actores. Es decir, que el coste sería el mínimo, 10 pagos por actor-día.\n",
        "\n",
        "Haciendo las 30 tomas el mismo día, las permutaciones posibles sobre como ordenar todas las tomas teniendo en cuenta el orden serían: 30! = 2,653x10^32. No obstante, daría igual el orden ya que el coste sería el mismo.\n",
        "\n",
        "\n",
        "Por otro lado, con la restricción aplicada, el mínimo de días para la grabación es necesariamente 5. Más días en cualquier caso solo incrementaría el coste.\n",
        "\n",
        "Hay 30 tomas, por lo que cada una se va a relacionar con un día (1º-2º-3º-4º-5º). O de otra forma, hay que distribuir los 5 días entre las 30 tomas, y cada día se repite 6 veces. Es una permutación sin repeticiones.\n",
        "\n",
        "A diferencia del cálculo anterior, ahora se van a contar las posibilidades de distribuir las 30 tomas entre los 5 días, cada uno con 6 huecos. Por lo tanto las posibles permutaciones en este caso son: 30!/(6!)^5 = 1,371x10^18"
      ]
    },
    {
      "cell_type": "markdown",
      "metadata": {
        "id": "dzynfVJahHoY"
      },
      "source": [
        "## Modelo para el espacio de soluciones<br>(*) ¿Cual es la estructura de datos que mejor se adapta al problema? Argumentalo.(Es posible que hayas elegido una al principio y veas la necesidad de cambiar, arguentalo)\n"
      ]
    },
    {
      "cell_type": "markdown",
      "metadata": {
        "id": "xFIJrOwKi2Ti"
      },
      "source": [
        "Cada toma se asigna a uno de los 5 días posibles. Se puede expresar como un vector de la dimension del número de tomas, 30, que relaciona directamente cada toma con uno de los 5 posibles días. Por tanto cada elemento de este vector puede tomar un valor entero entre 1 y 5, y tendrá exactamenete 6 elementos de cada cifra.\n",
        "\n",
        "A continuación se muestra el codigo y su ejecución. Para leer los datos del enunciado previamente se ha descargado el excel en la misma carpeta de este programa."
      ]
    },
    {
      "cell_type": "code",
      "execution_count": null,
      "metadata": {
        "id": "38c-7-ejhJmA",
        "outputId": "38fda7d6-d8ad-46f5-8b80-6563c195b23c"
      },
      "outputs": [
        {
          "name": "stdout",
          "output_type": "stream",
          "text": [
            "   Unnamed: 0  A1  A2  A3  A4  A5  A6  A7  A8  A9  A10  dia\n",
            "0          T1   1   1   1   1   1   0   0   0   0    0    1\n",
            "1          T2   0   0   1   1   1   0   0   0   0    0    1\n",
            "2          T3   0   1   0   0   1   0   1   0   0    0    1\n",
            "3          T4   1   1   0   0   0   0   1   1   0    0    1\n",
            "4          T5   0   1   0   1   0   0   0   1   0    0    1\n",
            "5          T6   1   1   0   1   1   0   0   0   0    0    1\n",
            "6          T7   1   1   0   1   1   0   0   0   0    0    2\n",
            "7          T8   1   1   0   0   0   1   0   0   0    0    2\n",
            "8          T9   1   1   0   1   0   0   0   0   0    0    2\n",
            "9         T10   1   1   0   0   0   1   0   0   1    0    2\n",
            "10        T11   1   1   1   0   1   0   0   1   0    0    2\n",
            "11        T12   1   1   1   1   0   1   0   0   0    0    2\n",
            "12        T13   1   0   0   1   1   0   0   0   0    0    3\n",
            "13        T14   1   0   1   0   0   1   0   0   0    0    3\n",
            "14        T15   1   1   0   0   0   0   1   0   0    0    3\n",
            "15        T16   0   0   0   1   0   0   0   0   0    1    3\n",
            "16        T17   1   0   1   0   0   0   0   0   0    0    3\n",
            "17        T18   0   0   1   0   0   1   0   0   0    0    3\n",
            "18        T19   1   0   1   0   0   0   0   0   0    0    4\n",
            "19        T20   1   0   1   1   1   0   0   0   0    0    4\n",
            "20        T21   0   0   0   0   0   1   0   1   0    0    4\n",
            "21        T22   1   1   1   1   0   0   0   0   0    0    4\n",
            "22        T23   1   0   1   0   0   0   0   0   0    0    4\n",
            "23        T24   0   0   1   0   0   1   0   0   0    0    4\n",
            "24        T25   1   1   0   1   0   0   0   0   0    1    5\n",
            "25        T26   1   0   1   0   1   0   0   0   1    0    5\n",
            "26        T27   0   0   0   1   1   0   0   0   0    0    5\n",
            "27        T28   1   0   0   1   0   0   0   0   0    0    5\n",
            "28        T29   1   0   0   0   1   1   0   0   0    0    5\n",
            "29        T30   1   0   0   1   0   0   0   0   0    0    5\n"
          ]
        }
      ],
      "source": [
        "import numpy as np\n",
        "import pandas as pd\n",
        "\n",
        "df = pd.read_excel('tabla_actores.xlsx')   #se carga el excel con los datos\n",
        "dia_tomas = [1,1,1,1,1,1,2,2,2,2,2,2,3,3,3,3,3,3,4,4,4,4,4,4,5,5,5,5,5,5]  #30 valores, 6 de cada cifra\n",
        "\n",
        "df['dia'] = dia_tomas   #inicialmente se ponen en esta secuencia\n",
        "print(df)"
      ]
    },
    {
      "cell_type": "markdown",
      "metadata": {
        "id": "R2XfhlkwJROw"
      },
      "source": [
        "El objetivo es ordenar ese vector-columa \"dia_tomas\" para optimizar la función de coste del problema."
      ]
    },
    {
      "cell_type": "markdown",
      "metadata": {
        "id": "7Z9U2W7bi-XS"
      },
      "source": [
        "## Según el modelo para el espacio de soluciones<br>(*)¿Cual es la función objetivo?(*)¿Es un problema de maximización o minimización?"
      ]
    },
    {
      "cell_type": "markdown",
      "metadata": {
        "id": "yRgZSs_oJROy"
      },
      "source": [
        "Se parte de la idea que hay que contar cuantos días acude a grabar cada actor. Solo el día que no hace ninguna toma es cuando no cobra. Por lo tanto, si los 10 actores fueran los 5 días, habría que pagar 50 sueldos actor-día.\n",
        "\n",
        "Filtrando las filas del DataFrame por un día en concreto, salen 10 columnas de actores por 6 de las tomas de ese día. Multiplicado escalarmente cada columna de cada actor por un vector de unos de dimension 6, obtenemos cuantas tomas graba cada actor ese día.\n",
        "\n",
        "Esto se puede recopilar en una matriz con columnas de actores por filas de días, es el resultado anteriormente descrito. Esta matriz se va a llamar \"mat_dias\" y se puede ver un ejemplo abajo en forma de DataFrame. Consecuentemente, las posiciones con el valor 0 indican que ese día ese actor no debe presentarse y no hay que pagarle. El número de 0 se obtiene con la funcion \"np.sum(mat_dias == 0)\".\n",
        "\n",
        "Por lo tanto, la función objetivo es:  f = 50 - np.sum(mat_dias == 0). Entonces se puede decir que es un problema de minimización, aunque se podría ver también como un problema de maximizar los días en los que los actores no hacen ninguna toma."
      ]
    },
    {
      "cell_type": "code",
      "execution_count": null,
      "metadata": {
        "id": "9IuoB1w1JROz",
        "outputId": "ab9e6828-82cd-4e88-f83a-d4e2e031f0af"
      },
      "outputs": [
        {
          "name": "stdout",
          "output_type": "stream",
          "text": [
            "   0  1  2  3  4  5  6  7  8  9\n",
            "0  3  2  3  2  0  3  0  0  0  2\n",
            "1  5  2  1  4  4  1  0  0  0  0\n",
            "2  4  4  3  1  2  3  2  3  0  0\n",
            "3  6  3  2  3  2  1  1  0  2  0\n",
            "4  4  3  4  5  3  0  0  1  0  0\n",
            "Hay  16 ceros en la matriz\n"
          ]
        }
      ],
      "source": [
        "#ejemplo de la funcion mat_dias en versión dataframe para mejor visualización\n",
        "\n",
        "df_mat_dias = pd.DataFrame(mat_dias)\n",
        "df_mat_dias = df_mat_dias.astype(int)\n",
        "\n",
        "print(df_mat_dias)\n",
        "print('Hay ', np.sum(mat_dias == 0), 'ceros en la matriz')"
      ]
    },
    {
      "cell_type": "markdown",
      "metadata": {
        "id": "pDA-rg3Gj5Lz"
      },
      "source": [
        "Recapitulando, la idea de la función es:\n",
        "1) Asignar un día a cada toma, como se ha mostrado en el apartado anterior\n",
        "2) Filtrar el dataframe por el día de cada toma, recorriendo los 5 con un bucle\n",
        "3) Una vez filtrado, multiplicar cada columna escalarmente por un vector de unos, cuyo resultado es el numero de tomas por actor ese dia [ columna_actor-dia @ np.ones(6) ]\n",
        "4) Se recogen esos datos en la matriz \"mat_dias\", que para cada actor (columnas) y cada día (filas) indica cuantas tomas son necesarias\n",
        "5) Se cuentan los días-actor que sean cero, y se restan a los 50 que serían los maximo posibles.\n",
        "\n",
        "El código del algoritmo se ve en la siguiente pregunta."
      ]
    },
    {
      "cell_type": "markdown",
      "metadata": {
        "id": "rlnTYgY1j6I2"
      },
      "source": [
        "## Diseña un algoritmo para resolver el problema por fuerza bruta"
      ]
    },
    {
      "cell_type": "markdown",
      "metadata": {
        "id": "fNOTl_8yJRO3"
      },
      "source": [
        "Para resolver el problema mediante fuerza bruta habría que comprobar todas las permutaciones posibles del vector de días de las tomas. Para esto se puede usar la función \"permutations\" que desarrolla todas las permutaciones posibles.\n",
        "\n",
        "Sin embargo, al ser 30 valores hay tantas posibles combinaciones de números que ni por tiempo ni por memoria se daría abasto computacionalmente. De hecho al ejecutarlo da error, y por eso se muestran solo unos pocos ejemplos."
      ]
    },
    {
      "cell_type": "code",
      "execution_count": null,
      "metadata": {
        "id": "70rDgxYXkC8r",
        "outputId": "c2980484-68d9-4da6-bc6f-1b5b368681af"
      },
      "outputs": [
        {
          "name": "stdout",
          "output_type": "stream",
          "text": [
            "38 (1, 1, 1, 1, 1, 1, 2, 2, 2, 2, 2, 2, 3, 3, 3, 3, 3, 3, 4, 4, 4, 4, 4, 4, 5, 5, 5, 5, 5, 5)\n",
            "36 (4, 2, 3, 5, 2, 1, 5, 3, 2, 1, 5, 4, 3, 2, 3, 4, 1, 4, 5, 2, 1, 5, 4, 1, 5, 1, 3, 4, 3, 2)\n",
            "34 (5, 5, 3, 3, 5, 2, 2, 1, 5, 4, 3, 3, 4, 3, 4, 1, 5, 1, 1, 5, 3, 4, 2, 1, 1, 4, 2, 4, 2, 2)\n"
          ]
        }
      ],
      "source": [
        "#es inabordable, pero se muestra algunos ejemplos de como funcionaria\n",
        "\n",
        "from itertools import permutations\n",
        "\n",
        "#permutaciones = list(permutations(valores))   no hay memroria suficiente, peligro al ejecutar este comando\n",
        "permutaciones = [(1,1,1,1,1,1,2,2,2,2,2,2,3,3,3,3,3,3,4,4,4,4,4,4,5,5,5,5,5,5),\n",
        "                (4, 2, 3, 5, 2, 1, 5, 3, 2, 1, 5, 4, 3, 2, 3, 4, 1, 4, 5, 2, 1, 5, 4, 1, 5, 1, 3, 4, 3, 2),\n",
        "                (5, 5, 3, 3, 5, 2, 2, 1, 5, 4, 3, 3, 4, 3, 4, 1, 5, 1, 1, 5, 3, 4, 2, 1, 1, 4, 2, 4, 2, 2)] #ejemplo\n",
        "\n",
        "dias_minimos = 50\n",
        "for permutacion in permutaciones:\n",
        "\n",
        "    df['dia'] = permutacion\n",
        "    mat_dias = np.zeros((5,10))\n",
        "\n",
        "    for i in range(1,6):\n",
        "        df_filtrado = df[df['dia'] == i]    #se filtra por días\n",
        "\n",
        "        for j in range(1,11):\n",
        "            mat_dias[i-1][j-1] = df_filtrado.iloc[:, j] @ np.ones(6)   #creacion matriz mat_dias\n",
        "\n",
        "    if (50 - np.sum(mat_dias == 0)) < dias_minimos:    #solo se guarda el resultado si es mejor que el actual\n",
        "        dias_minimos = 50 - np.sum(mat_dias == 0)\n",
        "        print(dias_minimos, permutacion)"
      ]
    },
    {
      "cell_type": "markdown",
      "metadata": {
        "id": "tgrnsC2nkFa8"
      },
      "source": [
        "## Calcula la complejidad del algoritmo por fuerza bruta"
      ]
    },
    {
      "cell_type": "markdown",
      "metadata": {
        "id": "9eUd3xwckP68"
      },
      "source": [
        "Por el número de posibilidades calculado se observa que es un porblema de orden factorial O(n!). Escala tan rápido que solo es viable para valores pequeños de la dimension n."
      ]
    },
    {
      "cell_type": "markdown",
      "metadata": {
        "id": "txbrmLmskReM"
      },
      "source": [
        "## (*)Diseña un algoritmo que mejore la complejidad del algortimo por fuerza bruta. Argumenta porque crees que mejora el algoritmo por fuerza bruta"
      ]
    },
    {
      "cell_type": "markdown",
      "metadata": {
        "id": "hLrVwt5QkZPD"
      },
      "source": [
        "El principal escollo que afronta un algoritmo por fuerza bruta es la desboradante cantidad de operaciones que debe realizar en casos grandes como este. Si se puede reducir el número de combinaciones totales, entonces se facilitara la tarea en tanto que haya menos posibilidades.\n",
        "\n",
        "Usando las técnicas de ramificación y poda podemos añadir restricciones para descartar combinaciones que no van a ser óptimas. Por ejemplo, idealmente un actor que tenga 6 o menos tomas podría acudir solo un día para reducir el coste.\n",
        "\n",
        "En este caso, el actor 10 solo aparece en las tomas 16 y 25. Si se impone que las estas tomas se hagan el mismo día, habrá 5 combinaciones en lugar de 25. Si se aplica a más actores, la simplificación será mayor, pero tampoco se puede asegurar que no se pueda llegar a descartar así la mejor solución posible, que a priori es completamente desconocida.\n",
        "\n",
        "A continuación se presenta el codigo que implementaría esta restricción. Esatría incompleto, pero no se ejecuta por la razón de antes, no hay memoria suficiente para trabajar por fuerza bruta."
      ]
    },
    {
      "cell_type": "code",
      "execution_count": null,
      "metadata": {
        "id": "m1eyM21Vkabg",
        "outputId": "c20ef569-8833-4e5e-a2b0-c35b2027f807"
      },
      "outputs": [
        {
          "name": "stdout",
          "output_type": "stream",
          "text": [
            "36 [1, 1, 1, 1, 2, 2, 2, 2, 2, 2, 3, 3, 3, 3, 3, 1, 3, 4, 4, 4, 4, 4, 4, 5, 1, 5, 5, 5, 5, 5]\n",
            "35 [1, 1, 1, 1, 1, 1, 2, 2, 2, 2, 3, 3, 3, 3, 3, 2, 3, 4, 4, 4, 4, 4, 4, 5, 2, 5, 5, 5, 5, 5]\n"
          ]
        }
      ],
      "source": [
        "#se generan las restricciones para que el actor 10 solo acuda un día\n",
        "\n",
        "mat_a10 = []\n",
        "for i in range(5):\n",
        "    dia_tomas = [1,1,1,1,1,1,2,2,2,2,2,2,3,3,3,3,3,3,4,4,4,4,4,4,5,5,5,5,5,5]\n",
        "\n",
        "    del dia_tomas[i*6:i*6+2]\n",
        "    dia_tomas.insert(15, i+1) #T16\n",
        "    dia_tomas.insert(24, i+1) #T25\n",
        "\n",
        "    mat_a10.append(dia_tomas)\n",
        "\n",
        "#OJO aqui se deberían permutar para volver a aplicar el algoritmo de la fuerza bruta\n",
        "\n",
        "dias_minimos = 50\n",
        "for permutacion in mat_a10:\n",
        "\n",
        "    df['dia'] = permutacion\n",
        "    mat_dias = np.zeros((5,10))\n",
        "\n",
        "    for i in range(1,6):\n",
        "        df_filtrado = df[df['dia'] == i]\n",
        "\n",
        "        for j in range(1,11):\n",
        "            mat_dias[i-1][j-1] = df_filtrado.iloc[:, j] @ np.ones(6)\n",
        "\n",
        "    if (50 - np.sum(mat_dias == 0)) < dias_minimos:\n",
        "        dias_minimos = 50 - np.sum(mat_dias == 0)\n",
        "        print(dias_minimos, permutacion)"
      ]
    },
    {
      "cell_type": "markdown",
      "metadata": {
        "id": "2FjT0TOCJRO8"
      },
      "source": [
        "Se observa como se ha generado un vector de los días de las tomas que consigue que que el actor 10 solo vaya un día. No obstante, el mismo concepto se podría aplicar para más actores."
      ]
    },
    {
      "cell_type": "markdown",
      "metadata": {
        "id": "eGDB4K6uk1iN"
      },
      "source": [
        "## (*)Calcula la complejidad del algoritmo"
      ]
    },
    {
      "cell_type": "markdown",
      "metadata": {
        "id": "NhpTh_BPk1ms"
      },
      "source": [
        "Dependiendo de cuantas restricciones se impusieran, el orden bajaría más o menos. Al imponer que un elemento del vector sea necesariamente igual que el otro, dia_tomas[15] == dia_tomas[24], se reduce un grado y la complejidad seria O(29!) en lugar de O(30!).\n",
        "\n",
        "En principio, cada restricción de este tipo rebaría un grado el orden de complejidad, siempre y cuando estas fueran compatibles con el enunciado origina. La complejidad seria tal que O((n-k)!), siendo k el número de restricciones del tipo descrito. Y aun pudiendo ser compatibles, cabría esperar que el añadir restricciones artificiales podría impedir que se lleguara a la solución óptima, por lo que habría que ser cuidadosos."
      ]
    },
    {
      "cell_type": "markdown",
      "metadata": {
        "id": "3M6QjTsSkmYe"
      },
      "source": [
        "## Según el problema (y tenga sentido), diseña un juego de datos de entrada aleatorios"
      ]
    },
    {
      "cell_type": "markdown",
      "metadata": {
        "id": "Jc3_OlyNkvjZ"
      },
      "source": [
        "Ahora el vector se combina de forma aleatoria a partir de la semilla incial. Se puede emplear la función \"random.shuffle\" para permutar de manera sencilla los elementos del vector."
      ]
    },
    {
      "cell_type": "code",
      "execution_count": null,
      "metadata": {
        "id": "sJ-N2etjkyWc",
        "outputId": "3300fcf2-ca93-4d3d-8b28-150e385e7ec7"
      },
      "outputs": [
        {
          "name": "stdout",
          "output_type": "stream",
          "text": [
            "[3, 4, 4, 5, 3, 3, 2, 3, 4, 1, 2, 5, 4, 1, 1, 2, 2, 2, 5, 5, 4, 3, 1, 1, 3, 2, 5, 1, 5, 4]\n"
          ]
        }
      ],
      "source": [
        "import random\n",
        "\n",
        "dia_tomas = [1,1,1,1,1,1,2,2,2,2,2,2,3,3,3,3,3,3,4,4,4,4,4,4,5,5,5,5,5,5]\n",
        "random.shuffle(dia_tomas)\n",
        "\n",
        "print(dia_tomas)"
      ]
    },
    {
      "cell_type": "markdown",
      "metadata": {
        "id": "zy5ZROmjlGo1"
      },
      "source": [
        "## Aplica el algoritmo al juego de datos generado"
      ]
    },
    {
      "cell_type": "markdown",
      "metadata": {
        "id": "_Cmj-PVylMsa"
      },
      "source": [
        "A continuación se introduce un vector aleatorio en el algoritmo de antes. Lo mejor de esto es que no se necesita crear una lista de todas las permutaciones del vector, por lo que no se generan problemas de memoria. Además permite explorar areas diversas más rápidamente.\n",
        "\n",
        "Para obtener buenos resultados lo mejor sería hacer el mayor número de intentos. No obstante, esto incrementa el tiempo de cálculo. Para una estimación aceptable se ha elegido analizar 10 mil casos, que tarda unos cincuenta segundos."
      ]
    },
    {
      "cell_type": "code",
      "execution_count": null,
      "metadata": {
        "id": "nIJuX8oNJRPB",
        "outputId": "49097b58-c833-46ff-8d50-e204ee580071"
      },
      "outputs": [
        {
          "name": "stdout",
          "output_type": "stream",
          "text": [
            "38 [5, 2, 1, 4, 1, 3, 2, 2, 4, 3, 5, 2, 1, 1, 1, 4, 2, 3, 5, 4, 4, 4, 5, 5, 3, 3, 2, 1, 3, 5]\n",
            "37 [4, 5, 4, 1, 2, 5, 4, 3, 1, 3, 1, 3, 3, 5, 4, 2, 3, 1, 5, 5, 3, 2, 2, 2, 5, 4, 4, 1, 1, 2]\n",
            "36 [2, 3, 5, 5, 1, 3, 1, 1, 2, 4, 1, 4, 1, 1, 2, 3, 4, 4, 4, 2, 5, 2, 5, 3, 5, 5, 3, 2, 3, 4]\n",
            "35 [2, 2, 5, 4, 4, 5, 3, 1, 4, 3, 5, 3, 5, 4, 4, 3, 1, 2, 5, 3, 1, 1, 1, 2, 5, 3, 2, 4, 2, 1]\n",
            "34 [2, 2, 3, 3, 4, 5, 5, 5, 1, 3, 4, 2, 5, 2, 4, 1, 3, 2, 3, 4, 5, 1, 5, 4, 1, 3, 4, 1, 2, 1]\n",
            "33 [2, 3, 5, 1, 1, 3, 2, 4, 1, 4, 5, 4, 4, 5, 5, 2, 3, 3, 1, 1, 5, 4, 2, 5, 2, 4, 1, 3, 3, 2]\n",
            "Tiempo transcurrido: 52.57889699935913 segundos\n"
          ]
        }
      ],
      "source": [
        "import time\n",
        "\n",
        "dia_tomas = [1,1,1,1,1,1,2,2,2,2,2,2,3,3,3,3,3,3,4,4,4,4,4,4,5,5,5,5,5,5]\n",
        "\n",
        "dias_minimos = 51\n",
        "\n",
        "tiempo_inicio = time.time()\n",
        "\n",
        "for k in range(10000): #OJO mas de 1000 empieza a tardar\n",
        "\n",
        "    random.shuffle(dia_tomas)\n",
        "    df['dia'] = dia_tomas\n",
        "\n",
        "    mat_dias = np.zeros((5,10))\n",
        "\n",
        "    for i in range(1,6):\n",
        "        df_filtrado = df[df['dia'] == i]\n",
        "\n",
        "        for j in range(1,11):\n",
        "            mat_dias[i-1][j-1] = df_filtrado.iloc[:, j] @ np.ones(6)\n",
        "\n",
        "    if (50 - np.sum(mat_dias == 0)) < dias_minimos:\n",
        "        dias_minimos = 50 - np.sum(mat_dias == 0)\n",
        "        print(dias_minimos, dia_tomas)\n",
        "\n",
        "tiempo_fin = time.time()\n",
        "\n",
        "# Calcula el tiempo transcurrido\n",
        "tiempo_transcurrido = tiempo_fin - tiempo_inicio\n",
        "\n",
        "print(f\"Tiempo transcurrido: {tiempo_transcurrido} segundos\")"
      ]
    },
    {
      "cell_type": "markdown",
      "metadata": {
        "id": "xeSHQKYHJRPD"
      },
      "source": [
        "En los primeros segundos encuentra soluciones cada vez mejores. Pero como se comprueba, que cada vez es más lento encontrando soluciones mejores, y en este caso al llegar a 33, ya no mejora, aunque haya estado mas de la mitad del tiempo en este punto.\n",
        "\n",
        "Por otra parte, se quiere ver si es cierto que agrupando las tomas de los actores que tienen pocas se mejoran los resultados. Para el vector del mejor resultado se comprueba que la hipotesis parece acertada, ya que tanto el actor 10 (tomas 16 y 25) como el actor 9 (tomas 10 y 26) se realizan sus dos tomas el mismo día (días 2 y 4 respectivamente)."
      ]
    },
    {
      "cell_type": "code",
      "execution_count": null,
      "metadata": {
        "id": "AuV8wgBnJRPE",
        "outputId": "617f7bca-521a-4aac-ce10-9b12fb909855"
      },
      "outputs": [
        {
          "name": "stdout",
          "output_type": "stream",
          "text": [
            "2 2\n",
            "4 4\n"
          ]
        }
      ],
      "source": [
        "aux = [2, 3, 5, 1, 1, 3, 2, 4, 1, 4, 5, 4, 4, 5, 5, 2, 3, 3, 1, 1, 5, 4, 2, 5, 2, 4, 1, 3, 3, 2]\n",
        "print(aux[15],aux[24])\n",
        "print(aux[9],aux[25])"
      ]
    },
    {
      "cell_type": "markdown",
      "metadata": {
        "id": "eTFWUJQrtGcv"
      },
      "source": [
        "## Enumera las referencias que has utilizado(si ha sido necesario) para llevar a cabo el trabajo"
      ]
    },
    {
      "cell_type": "markdown",
      "metadata": {
        "id": "YKQ_mRBttWsP"
      },
      "source": [
        "Reyero, R., ALGORITMOS DE OPTIMIZACIÓN, apuntes del MÁSTER UNIVERSITARIO EN INTELIGENCIA ARTIFICIAL"
      ]
    },
    {
      "cell_type": "markdown",
      "metadata": {
        "id": "kAkDPUyRtYyH"
      },
      "source": [
        "## Describe brevemente las lineas de como crees que es posible avanzar en el estudio del problema. Ten en cuenta incluso posibles variaciones del problema y/o variaciones al alza del tamaño"
      ]
    },
    {
      "cell_type": "markdown",
      "metadata": {
        "id": "IE0uZmo-tZu-"
      },
      "source": [
        "Existen varias formas en las que es esperable mejorar la solución obtenida del problema:\n",
        "- Ampliar la búsqueda de valores aleatorios, a costa de incrementar el tiempo de computación: El inconveniente es que encontrar una solución mejor cada vez es mucho más costoso.\n",
        "- Implementar métodos heurísticos: El método aleatorio suele ser muy poco eficiente.\n",
        "- Usar un código más eficiente: por ejemplo, el uso de dataframes es poco eficiente, sin embargo la biblioteca de numpy debería ofrecer recursos que optimizan mucho mejor los cálculos necesarios.\n",
        "- Imponer restricciones que acoten considerablemente el rango de posibilidades del problema: Se detalla en la siguiente caja."
      ]
    },
    {
      "cell_type": "markdown",
      "metadata": {
        "id": "YTvtBwC6JRPH"
      },
      "source": [
        "Ahora se va a volver a aplicar el algoritmo, pero imponiendo varias restricciones. Cada uno de los actores 7, 8, 9 y 10 solamente necesitan ir un día. Si además fijamos esos días, siendo el primero y el segundo, acotamos significativamente las posibles soluciones. Ya no hay que permutar 30 elementos sino 20.\n",
        "\n",
        "El día 1 se asigna para las tomas de los actores 9 y 10, y el 2 para las de 7 y 8. El resultado, igualmente para 10 mil intentos es el siguiente."
      ]
    },
    {
      "cell_type": "code",
      "execution_count": null,
      "metadata": {
        "id": "6_-UhUMYJRPI",
        "outputId": "abfe890c-c885-4510-975f-4bfa35dc19b1"
      },
      "outputs": [
        {
          "name": "stdout",
          "output_type": "stream",
          "text": [
            "34 [3, 5, 2, 2, 2, 4, 4, 4, 1, 1, 2, 5, 5, 3, 2, 1, 4, 5, 3, 1, 2, 3, 5, 3, 1, 1, 5, 4, 3, 4]\n",
            "32 [4, 4, 2, 2, 2, 3, 4, 4, 1, 1, 2, 1, 4, 5, 2, 1, 3, 5, 5, 5, 2, 3, 3, 4, 1, 1, 3, 5, 5, 3]\n",
            "31 [4, 4, 2, 2, 2, 5, 5, 1, 4, 1, 2, 5, 4, 3, 2, 1, 3, 3, 3, 4, 2, 5, 3, 3, 1, 1, 1, 5, 4, 5]\n",
            "30 [3, 5, 2, 2, 2, 3, 1, 4, 3, 1, 2, 3, 5, 4, 2, 1, 4, 4, 3, 5, 2, 3, 4, 4, 1, 1, 5, 5, 1, 5]\n",
            "Tiempo transcurrido: 52.48275542259216 segundos\n"
          ]
        }
      ],
      "source": [
        "import time\n",
        "\n",
        "dias_minimos = 51\n",
        "\n",
        "tiempo_inicio = time.time()\n",
        "\n",
        "for k in range(10000): #OJO mas de 1000 empieza a tardar\n",
        "\n",
        "    dia_tomas_mod = [1,1,3,3,3,3,3,3,4,4,4,4,4,4,5,5,5,5,5,5]\n",
        "    random.shuffle(dia_tomas_mod)\n",
        "\n",
        "    dia_tomas_mod.insert(2, 2) #T3\n",
        "    dia_tomas_mod.insert(3, 2) #T4\n",
        "    dia_tomas_mod.insert(4, 2) #T5\n",
        "    dia_tomas_mod.insert(9, 1) #T10\n",
        "    dia_tomas_mod.insert(10, 2) #T11\n",
        "    dia_tomas_mod.insert(14, 2) #T15\n",
        "    dia_tomas_mod.insert(15, 1) #T16\n",
        "    dia_tomas_mod.insert(20, 2) #T21\n",
        "    dia_tomas_mod.insert(24, 1) #T25\n",
        "    dia_tomas_mod.insert(25, 1) #T26\n",
        "\n",
        "    df['dia'] = dia_tomas_mod\n",
        "\n",
        "    mat_dias = np.zeros((5,10))\n",
        "\n",
        "    for i in range(1,6):\n",
        "        df_filtrado = df[df['dia'] == i]\n",
        "\n",
        "        for j in range(1,11):\n",
        "            mat_dias[i-1][j-1] = df_filtrado.iloc[:, j] @ np.ones(6)\n",
        "\n",
        "    if (50 - np.sum(mat_dias == 0)) < dias_minimos:\n",
        "        dias_minimos = 50 - np.sum(mat_dias == 0)\n",
        "        print(dias_minimos, dia_tomas_mod)\n",
        "\n",
        "tiempo_fin = time.time()\n",
        "\n",
        "# Calcula el tiempo transcurrido\n",
        "tiempo_transcurrido = tiempo_fin - tiempo_inicio\n",
        "\n",
        "print(f\"Tiempo transcurrido: {tiempo_transcurrido} segundos\")"
      ]
    },
    {
      "cell_type": "markdown",
      "metadata": {
        "id": "_3IftiaJJRPJ"
      },
      "source": [
        "En el mismo tiempo, se ha conseguido una solución notablemente mejor (30 vs 33). Esto se debe a haber reducido las posibilidades en varios órdenes de magnitud. La mejora es evidente, pero también es lógico plantearse si esas restricciones podrían haber bloqueado el alcance de la desconocida solución óptima."
      ]
    }
  ],
  "metadata": {
    "colab": {
      "provenance": [],
      "include_colab_link": true
    },
    "kernelspec": {
      "display_name": "Python 3 (ipykernel)",
      "language": "python",
      "name": "python3"
    },
    "language_info": {
      "codemirror_mode": {
        "name": "ipython",
        "version": 3
      },
      "file_extension": ".py",
      "mimetype": "text/x-python",
      "name": "python",
      "nbconvert_exporter": "python",
      "pygments_lexer": "ipython3",
      "version": "3.10.9"
    }
  },
  "nbformat": 4,
  "nbformat_minor": 0
}